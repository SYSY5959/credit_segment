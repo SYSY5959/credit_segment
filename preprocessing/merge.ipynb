{
 "cells": [
  {
   "cell_type": "code",
   "execution_count": 3,
   "metadata": {},
   "outputs": [
    {
     "name": "stdout",
     "output_type": "stream",
     "text": [
      "Processing month: 07\n",
      "shape: (400000, 858)\n",
      "Processing month: 08\n",
      "shape: (400000, 858)\n",
      "Processing month: 09\n",
      "shape: (400000, 858)\n",
      "Processing month: 10\n",
      "shape: (400000, 858)\n",
      "Processing month: 11\n",
      "shape: (400000, 858)\n",
      "Processing month: 12\n",
      "shape: (400000, 858)\n"
     ]
    }
   ],
   "source": [
    "import pandas as pd\n",
    "import os\n",
    "\n",
    "# monthly_merge_data 폴더 생성\n",
    "os.makedirs('../data/monthly_merge_data', exist_ok=True)\n",
    "os.makedirs('../data/monthly_merge_data/example', exist_ok=True)\n",
    "os.makedirs('../data/monthly_merge_data/train', exist_ok=True)\n",
    "os.makedirs('../data/monthly_merge_data/test', exist_ok=True)\n",
    "\n",
    "# 월별 데이터 병합 함수\n",
    "def merge_monthly_data(month):\n",
    "    # 각 데이터프레임 로드\n",
    "    member = pd.read_parquet(f'../data/train/1.회원정보/2018{month}_train_회원정보.parquet')\n",
    "    credit = pd.read_parquet(f'../data/train/2.신용정보/2018{month}_train_신용정보.parquet')\n",
    "    sales = pd.read_parquet(f'../data/train/3.승인매출정보/2018{month}_train_승인매출정보.parquet')\n",
    "    claim = pd.read_parquet(f'../data/train/4.청구입금정보/2018{month}_train_청구정보.parquet')\n",
    "    balance = pd.read_parquet(f'../data/train/5.잔액정보/2018{month}_train_잔액정보.parquet')\n",
    "    channel = pd.read_parquet(f'../data/train/6.채널정보/2018{month}_train_채널정보.parquet')\n",
    "    marketing = pd.read_parquet(f'../data/train/7.마케팅정보/2018{month}_train_마케팅정보.parquet')\n",
    "    performance = pd.read_parquet(f'../data/train/8.성과정보/2018{month}_train_성과정보.parquet')\n",
    "    \n",
    "    # 데이터프레임 병합\n",
    "    total = member.merge(credit, on=['기준년월', 'ID'], how='left')\\\n",
    "        .merge(sales, on=['기준년월', 'ID'], how='left')\\\n",
    "        .merge(claim, on=['기준년월', 'ID'], how='left')\\\n",
    "        .merge(balance, on=['기준년월', 'ID'], how='left')\\\n",
    "        .merge(channel, on=['기준년월', 'ID'], how='left')\\\n",
    "        .merge(marketing, on=['기준년월', 'ID'], how='left')\\\n",
    "        .merge(performance, on=['기준년월', 'ID'], how='left')\n",
    "    \n",
    "    # 병합된 데이터프레임 저장 경로 변경\n",
    "    total.to_parquet(f'../data/monthly_merge_data/train/2018{month}_train_total.parquet')\n",
    "    #30개의 행만 excel로 저장\n",
    "    total.head(30).to_excel(f'../data/monthly_merge_data/example/2018{month}_train_total_example.xlsx')\n",
    "    return total\n",
    "\n",
    "# 7월부터 12월까지 데이터 병합\n",
    "months = ['07', '08', '09', '10', '11', '12']\n",
    "total_dfs = {}\n",
    "\n",
    "for month in months:\n",
    "    print(f'Processing month: {month}')\n",
    "    total_dfs[month] = merge_monthly_data(month)\n",
    "    print(f'shape: {total_dfs[month].shape}')"
   ]
  },
  {
   "cell_type": "code",
   "execution_count": 4,
   "metadata": {},
   "outputs": [
    {
     "name": "stdout",
     "output_type": "stream",
     "text": [
      "Processing month: 07\n",
      "shape: (100000, 857)\n",
      "Processing month: 08\n",
      "shape: (100000, 857)\n",
      "Processing month: 09\n",
      "shape: (100000, 857)\n",
      "Processing month: 10\n",
      "shape: (100000, 857)\n",
      "Processing month: 11\n",
      "shape: (100000, 857)\n",
      "Processing month: 12\n",
      "shape: (100000, 857)\n"
     ]
    }
   ],
   "source": [
    "import pandas as pd\n",
    "import os\n",
    "\n",
    "# monthly_merge_data 폴더 생성\n",
    "os.makedirs('../data/monthly_merge_data', exist_ok=True)\n",
    "\n",
    "# 월별 데이터 병합 함수\n",
    "def test_merge_monthly_data(month):\n",
    "    # 각 데이터프레임 로드\n",
    "    member = pd.read_parquet(f'../data/test/1.회원정보/2018{month}_test_회원정보.parquet')\n",
    "    credit = pd.read_parquet(f'../data/test/2.신용정보/2018{month}_test_신용정보.parquet')\n",
    "    sales = pd.read_parquet(f'../data/test/3.승인매출정보/2018{month}_test_승인매출정보.parquet')\n",
    "    claim = pd.read_parquet(f'../data/test/4.청구입금정보/2018{month}_test_청구정보.parquet')\n",
    "    balance = pd.read_parquet(f'../data/test/5.잔액정보/2018{month}_test_잔액정보.parquet')\n",
    "    channel = pd.read_parquet(f'../data/test/6.채널정보/2018{month}_test_채널정보.parquet')\n",
    "    marketing = pd.read_parquet(f'../data/test/7.마케팅정보/2018{month}_test_마케팅정보.parquet')\n",
    "    performance = pd.read_parquet(f'../data/test/8.성과정보/2018{month}_test_성과정보.parquet')\n",
    "    \n",
    "    # 데이터프레임 병합\n",
    "    total = member.merge(credit, on=['기준년월', 'ID'], how='left')\\\n",
    "        .merge(sales, on=['기준년월', 'ID'], how='left')\\\n",
    "        .merge(claim, on=['기준년월', 'ID'], how='left')\\\n",
    "        .merge(balance, on=['기준년월', 'ID'], how='left')\\\n",
    "        .merge(channel, on=['기준년월', 'ID'], how='left')\\\n",
    "        .merge(marketing, on=['기준년월', 'ID'], how='left')\\\n",
    "        .merge(performance, on=['기준년월', 'ID'], how='left')\n",
    "    \n",
    "    # 병합된 데이터프레임 저장 경로 변경\n",
    "    total.to_parquet(f'../data/monthly_merge_data/test/2018{month}_test_total.parquet')\n",
    "    return total\n",
    "\n",
    "# 7월부터 12월까지 데이터 병합\n",
    "months = ['07', '08', '09', '10', '11', '12']\n",
    "total_test_dfs = {}\n",
    "\n",
    "for month in months:\n",
    "    print(f'Processing month: {month}')\n",
    "    total_test_dfs[month] = test_merge_monthly_data(month)\n",
    "    print(f'shape: {total_test_dfs[month].shape}')"
   ]
  },
  {
   "cell_type": "code",
   "execution_count": 5,
   "metadata": {},
   "outputs": [
    {
     "name": "stdout",
     "output_type": "stream",
     "text": [
      "(500000, 858)\n",
      "(500000, 858)\n",
      "(500000, 858)\n",
      "(500000, 858)\n",
      "(500000, 858)\n",
      "(500000, 858)\n"
     ]
    }
   ],
   "source": [
    "months = ['07', '08', '09', '10', '11', '12']\n",
    "os.makedirs('../data/monthly_merge_data/total', exist_ok=True)\n",
    "for month in months:\n",
    "    total_dfs[month] = pd.concat([total_dfs[month], total_test_dfs[month]], axis=0)\n",
    "    print(total_dfs[month].shape)\n",
    "    total_dfs[month].to_parquet(f'../data/monthly_merge_data/total/2018{month}_total.parquet')\n"
   ]
  },
  {
   "cell_type": "code",
   "execution_count": null,
   "metadata": {},
   "outputs": [],
   "source": []
  },
  {
   "cell_type": "code",
   "execution_count": null,
   "metadata": {},
   "outputs": [],
   "source": []
  }
 ],
 "metadata": {
  "kernelspec": {
   "display_name": "base",
   "language": "python",
   "name": "python3"
  },
  "language_info": {
   "codemirror_mode": {
    "name": "ipython",
    "version": 3
   },
   "file_extension": ".py",
   "mimetype": "text/x-python",
   "name": "python",
   "nbconvert_exporter": "python",
   "pygments_lexer": "ipython3",
   "version": "3.12.3"
  }
 },
 "nbformat": 4,
 "nbformat_minor": 2
}
