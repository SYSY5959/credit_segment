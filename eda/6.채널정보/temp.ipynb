{
 "cells": [
  {
   "cell_type": "code",
   "execution_count": 1,
   "metadata": {},
   "outputs": [
    {
     "name": "stdout",
     "output_type": "stream",
     "text": [
      "c:\\Users\\erich\\Desktop\\HYU\\신용카드 고객 세그먼트 분류 공모전\\eda\\6.채널정보\n"
     ]
    }
   ],
   "source": [
    "import os\n",
    "import gc\n",
    "\n",
    "import pandas as pd\n",
    "import numpy as np\n",
    "\n",
    "import sys\n",
    "sys.path.append(\"..\")\n",
    "\n",
    "from plot import plot_segment_grid\n",
    "\n",
    "print(os.getcwd())"
   ]
  },
  {
   "cell_type": "code",
   "execution_count": 2,
   "metadata": {},
   "outputs": [
    {
     "data": {
      "text/plain": [
       "0"
      ]
     },
     "execution_count": 2,
     "metadata": {},
     "output_type": "execute_result"
    }
   ],
   "source": [
    "temp = pd.read_parquet(f\"../../data/train/1.회원정보/201807_train_회원정보.parquet\")\n",
    "segment = temp[\"Segment\"]\n",
    "\n",
    "del temp\n",
    "gc.collect()"
   ]
  },
  {
   "cell_type": "markdown",
   "metadata": {},
   "source": [
    "info_categories = [\"customer\", \"credit\", \"sales\", \"billing\", \"balance\", \"channel\", \"marketing\", \"performance\"]"
   ]
  },
  {
   "cell_type": "code",
   "execution_count": 3,
   "metadata": {},
   "outputs": [
    {
     "data": {
      "text/plain": [
       "0"
      ]
     },
     "execution_count": 3,
     "metadata": {},
     "output_type": "execute_result"
    }
   ],
   "source": [
    "channels = []\n",
    "\n",
    "months = [7, 8, 9, 10, 11, 12]\n",
    "\n",
    "for month in months:\n",
    "    # train = pd.read_parquet(f\"../data/train/1.회원정보/2018{month:02}_train_회원정보.parquet\")\n",
    "    # test = pd.read_parquet(f\"../data/test/1.회원정보/2018{month:02}_test_회원정보.parquet\")\n",
    "    # customers.append(pd.concat([train, test], ignore_index=True))\n",
    "    \n",
    "    temp = pd.read_parquet(f\"../../data/train/6.채널정보/2018{month:02}_train_채널정보.parquet\")\n",
    "    temp[\"Segment\"] = segment\n",
    "    channels.append(temp)\n",
    "\n",
    "del temp\n",
    "gc.collect()"
   ]
  },
  {
   "cell_type": "code",
   "execution_count": 6,
   "metadata": {},
   "outputs": [
    {
     "name": "stdout",
     "output_type": "stream",
     "text": [
      "기준년월,ID,인입횟수_ARS_R6M,이용메뉴건수_ARS_R6M,인입일수_ARS_R6M,인입월수_ARS_R6M,인입후경과월_ARS,인입횟수_ARS_B0M,이용메뉴건수_ARS_B0M,인입일수_ARS_B0M,방문횟수_PC_R6M,방문일수_PC_R6M\n",
      "방문월수_PC_R6M,방문후경과월_PC_R6M,방문횟수_앱_R6M,방문일수_앱_R6M,방문월수_앱_R6M,방문후경과월_앱_R6M,방문횟수_모바일웹_R6M,방문일수_모바일웹_R6M,방문월수_모바일웹_R6M,방문후경과월_모바일웹_R6M\n",
      "방문횟수_PC_B0M,방문일수_PC_B0M,방문횟수_앱_B0M,방문일수_앱_B0M,방문횟수_모바일웹_B0M,방문일수_모바일웹_B0M,인입횟수_IB_R6M,인입횟수_금융_IB_R6M,인입일수_IB_R6M,인입월수_IB_R6M\n",
      "이용메뉴건수_IB_R6M,인입후경과월_IB_R6M,인입횟수_IB_B0M,인입일수_IB_B0M,이용메뉴건수_IB_B0M,인입불만횟수_IB_R6M,인입불만일수_IB_R6M,인입불만월수_IB_R6M,인입불만후경과월_IB_R6M,인입불만횟수_IB_B0M\n",
      "인입불만일수_IB_B0M,상담건수_B0M,IB문의건수_사용승인내역_B0M,IB문의건수_한도_B0M,IB문의건수_선결제_B0M,IB문의건수_결제_B0M,IB문의건수_할부_B0M,IB문의건수_정보변경_B0M,IB문의건수_결제일변경_B0M,IB문의건수_명세서_B0M\n",
      "IB문의건수_비밀번호_B0M,IB문의건수_SMS_B0M,IB문의건수_APP_B0M,IB문의건수_부대서비스_B0M,IB문의건수_포인트_B0M,IB문의건수_카드발급_B0M,IB문의건수_BL_B0M,IB문의건수_분실도난_B0M,IB문의건수_CA_B0M,IB문의건수_CL_RV_B0M\n",
      "IB문의건수_CS_B0M,IB상담건수_VOC_B0M,IB상담건수_VOC민원_B0M,IB상담건수_VOC불만_B0M,IB상담건수_금감원_B0M,상담건수_R6M,IB문의건수_사용승인내역_R6M,IB문의건수_한도_R6M,IB문의건수_선결제_R6M,IB문의건수_결제_R6M\n",
      "IB문의건수_할부_R6M,IB문의건수_정보변경_R6M,IB문의건수_결제일변경_R6M,IB문의건수_명세서_R6M,IB문의건수_비밀번호_R6M,IB문의건수_SMS_R6M,IB문의건수_APP_R6M,IB문의건수_부대서비스_R6M,IB문의건수_포인트_R6M,IB문의건수_카드발급_R6M\n",
      "IB문의건수_BL_R6M,IB문의건수_분실도난_R6M,IB문의건수_CA_R6M,IB문의건수_CL_RV_R6M,IB문의건수_CS_R6M,IB상담건수_VOC_R6M,IB상담건수_VOC민원_R6M,IB상담건수_VOC불만_R6M,IB상담건수_금감원_R6M,불만제기건수_B0M\n",
      "불만제기건수_R12M,불만제기후경과월_R12M,당사PAY_방문횟수_B0M,당사PAY_방문횟수_R6M,당사PAY_방문월수_R6M,당사멤버쉽_방문횟수_B0M,당사멤버쉽_방문횟수_R6M,당사멤버쉽_방문월수_R6M,OS구분코드,홈페이지_금융건수_R6M\n",
      "홈페이지_선결제건수_R6M,홈페이지_금융건수_R3M,홈페이지_선결제건수_R3M,Segment,\n",
      "\n",
      "105\n"
     ]
    }
   ],
   "source": [
    "for idx, col in enumerate(list(channels[0].columns)):\n",
    "    if idx % 10 == 1 and idx > 1:\n",
    "        print(col)\n",
    "    else:\n",
    "        print(col, end = \",\")\n",
    "\n",
    "print(\"\\n\")\n",
    "print(idx)"
   ]
  },
  {
   "cell_type": "code",
   "execution_count": null,
   "metadata": {},
   "outputs": [],
   "source": []
  }
 ],
 "metadata": {
  "kernelspec": {
   "display_name": "CustomerSegment",
   "language": "python",
   "name": "python3"
  },
  "language_info": {
   "codemirror_mode": {
    "name": "ipython",
    "version": 3
   },
   "file_extension": ".py",
   "mimetype": "text/x-python",
   "name": "python",
   "nbconvert_exporter": "python",
   "pygments_lexer": "ipython3",
   "version": "3.10.16"
  }
 },
 "nbformat": 4,
 "nbformat_minor": 2
}
