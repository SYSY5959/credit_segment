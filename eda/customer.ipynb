{
 "cells": [
  {
   "cell_type": "code",
   "execution_count": 1,
   "metadata": {},
   "outputs": [],
   "source": [
    "import io\n",
    "import pandas as pd\n",
    "import numpy as np\n",
    "\n",
    "import os"
   ]
  },
  {
   "cell_type": "code",
   "execution_count": 26,
   "metadata": {},
   "outputs": [],
   "source": [
    "def analyze_dataframe(df, chunk_size=10, print_info=True):\n",
    "    \"\"\"\n",
    "    데이터프레임을 분석하여 정보를 출력하고 null 값이 있는 컬럼 목록을 반환합니다.\n",
    "    \n",
    "    Parameters:\n",
    "    - df: 분석할 pandas 데이터프레임\n",
    "    - chunk_size: 열 정보를 출력할 때 한 번에 보여줄 열의 개수\n",
    "    - print_info: 분석 정보를 출력할지 여부\n",
    "    \n",
    "    Returns:\n",
    "    - null_columns: null 값을 포함하는 컬럼 목록\n",
    "    \"\"\"\n",
    "    # null 값이 존재하는 변수를 리스트에 저장\n",
    "    null_columns = df.columns[df.isnull().any() == True].tolist()\n",
    "    \n",
    "    # 정보 출력 여부 확인\n",
    "    if print_info:\n",
    "        print(\"\\n데이터프레임 정보:\")\n",
    "        \n",
    "        # 정보 출력을 위한 버퍼 생성\n",
    "        buffer = io.StringIO()\n",
    "        df.info(buf=buffer)\n",
    "        info_str = buffer.getvalue()\n",
    "        \n",
    "        # 정보 문자열을 줄 단위로 분할\n",
    "        info_lines = info_str.split('\\n')\n",
    "        \n",
    "        # 헤더 정보 출력\n",
    "        for line in info_lines[:6]:\n",
    "            print(line)\n",
    "        \n",
    "        # 열 정보를 chunk_size씩 나누어 출력\n",
    "        column_lines = info_lines[6:-2]\n",
    "        total_chunks = (len(column_lines) + chunk_size - 1) // chunk_size\n",
    "        \n",
    "        for i in range(total_chunks):\n",
    "            start_idx = i * chunk_size\n",
    "            end_idx = min((i + 1) * chunk_size, len(column_lines))\n",
    "            \n",
    "            print(\"\\n열 %d에서 %d까지:\" % (start_idx, end_idx-1))\n",
    "            for j in range(start_idx, end_idx):\n",
    "                print(column_lines[j])\n",
    "        \n",
    "        # 푸터 정보 출력\n",
    "        for line in info_lines[-2:]:\n",
    "            print(\"\\n\" + line)\n",
    "        \n",
    "        # null 값이 있는 컬럼 출력\n",
    "        print(\"\\n\\nNull 값이 존재하는 변수:\")\n",
    "        print(null_columns)\n",
    "    \n",
    "    return null_columns\n"
   ]
  },
  {
   "cell_type": "code",
   "execution_count": 20,
   "metadata": {},
   "outputs": [],
   "source": [
    "# Replace 'your_file.parquet' with the actual path to your parquet file\n",
    "menber07 = pd.read_parquet('../data/train/1.회원정보/201807_train_회원정보.parquet')\n",
    "credit07 = pd.read_parquet('../data/train/2.신용정보/201807_train_신용정보.parquet')\n",
    "sales07 = pd.read_parquet('../data/train/3.승인매출정보/201807_train_승인매출정보.parquet')\n",
    "claim07 = pd.read_parquet('../data/train/4.청구입금정보/201807_train_청구정보.parquet')\n",
    "balance07 = pd.read_parquet('../data/train/5.잔액정보/201807_train_잔액정보.parquet')\n",
    "channel07 = pd.read_parquet('../data/train/6.채널정보/201807_train_채널정보.parquet')\n",
    "marketing07 = pd.read_parquet('../data/train/7.마케팅정보/201807_train_마케팅정보.parquet')\n",
    "performance07 = pd.read_parquet('../data/train/8.성과정보/201807_train_성과정보.parquet')"
   ]
  },
  {
   "cell_type": "code",
   "execution_count": 29,
   "metadata": {},
   "outputs": [],
   "source": [
    "# 8개의 데이터 프레임에 대하여 컬럼리스트와 널값이 있는 컬럼리스트를 저장\n",
    "menber07_columns = menber07.columns.tolist()\n",
    "credit07_columns = credit07.columns.tolist()\n",
    "sales07_columns = sales07.columns.tolist()\n",
    "claim07_columns = claim07.columns.tolist()\n",
    "balance07_columns = balance07.columns.tolist()\n",
    "channel07_columns = channel07.columns.tolist()\n",
    "marketing07_columns = marketing07.columns.tolist()\n",
    "performance07_columns = performance07.columns.tolist()\n",
    "# 8개의 데이터 프레임에 대하여 널값이 있는 컬럼리스트 저장\n",
    "menber07_null_columns = analyze_dataframe(menber07, print_info=False)\n",
    "credit07_null_columns = analyze_dataframe(credit07, print_info=False)\n",
    "sales07_null_columns = analyze_dataframe(sales07, print_info=False)\n",
    "claim07_null_columns = analyze_dataframe(claim07, print_info=False)\n",
    "balance07_null_columns = analyze_dataframe(balance07, print_info=False)\n",
    "channel07_null_columns = analyze_dataframe(channel07, print_info=False)\n",
    "marketing07_null_columns = analyze_dataframe(marketing07, print_info=False)\n",
    "performance07_null_columns = analyze_dataframe(performance07, print_info=False)\n"
   ]
  },
  {
   "cell_type": "code",
   "execution_count": 30,
   "metadata": {},
   "outputs": [
    {
     "name": "stdout",
     "output_type": "stream",
     "text": [
      "회원정보 컬럼 리스트:\n",
      "78\n",
      "['기준년월', 'ID', '남녀구분코드', '연령', 'Segment', '회원여부_이용가능', '회원여부_이용가능_CA', '회원여부_이용가능_카드론', '소지여부_신용', '소지카드수_유효_신용', '소지카드수_이용가능_신용', '입회일자_신용', '입회경과개월수_신용', '회원여부_연체', '이용거절여부_카드론', '동의여부_한도증액안내', '수신거부여부_TM', '수신거부여부_DM', '수신거부여부_메일', '수신거부여부_SMS', '가입통신회사코드', '탈회횟수_누적', '최종탈회후경과월', '탈회횟수_발급6개월이내', '탈회횟수_발급1년이내', '거주시도명', '직장시도명', '마케팅동의여부', '유효카드수_신용체크', '유효카드수_신용', '유효카드수_신용_가족', '유효카드수_체크', '유효카드수_체크_가족', '이용가능카드수_신용체크', '이용가능카드수_신용', '이용가능카드수_신용_가족', '이용가능카드수_체크', '이용가능카드수_체크_가족', '이용카드수_신용체크', '이용카드수_신용', '이용카드수_신용_가족', '이용카드수_체크', '이용카드수_체크_가족', '이용금액_R3M_신용체크', '이용금액_R3M_신용', '이용금액_R3M_신용_가족', '이용금액_R3M_체크', '이용금액_R3M_체크_가족', '_1순위카드이용금액', '_1순위카드이용건수', '_1순위신용체크구분', '_2순위카드이용금액', '_2순위카드이용건수', '_2순위신용체크구분', '최종유효년월_신용_이용가능', '최종유효년월_신용_이용', '최종카드발급일자', '보유여부_해외겸용_본인', '이용가능여부_해외겸용_본인', '이용여부_3M_해외겸용_본인', '보유여부_해외겸용_신용_본인', '이용가능여부_해외겸용_신용_본인', '이용여부_3M_해외겸용_신용_본인', '연회비발생카드수_B0M', '연회비할인카드수_B0M', '기본연회비_B0M', '제휴연회비_B0M', '할인금액_기본연회비_B0M', '할인금액_제휴연회비_B0M', '청구금액_기본연회비_B0M', '청구금액_제휴연회비_B0M', '상품관련면제카드수_B0M', '임직원면제카드수_B0M', '우수회원면제카드수_B0M', '기타면제카드수_B0M', '카드신청건수', 'Life_Stage', '최종카드발급경과월']\n",
      "\n",
      "회원정보 null 컬럼 리스트:\n",
      "7\n",
      "['가입통신회사코드', '직장시도명', '_1순위신용체크구분', '_2순위신용체크구분', '최종유효년월_신용_이용가능', '최종유효년월_신용_이용', '최종카드발급일자']\n",
      "\n",
      "신용정보 컬럼 리스트:\n",
      "42\n",
      "['기준년월', 'ID', '최초한도금액', '카드이용한도금액', 'CA한도금액', '일시상환론한도금액', '월상환론한도금액', 'CA이자율_할인전', 'CL이자율_할인전', 'RV일시불이자율_할인전', 'RV현금서비스이자율_할인전', 'RV신청일자', 'RV약정청구율', 'RV최소결제비율', '자발한도감액횟수_R12M', '자발한도감액금액_R12M', '자발한도감액후경과월', '강제한도감액횟수_R12M', '강제한도감액금액_R12M', '강제한도감액후경과월', '한도증액횟수_R12M', '한도증액금액_R12M', '한도증액후경과월', '상향가능한도금액', '상향가능CA한도금액', '카드론동의여부', '월상환론상향가능한도금액', 'RV전환가능여부', '일시불ONLY전환가능여부', '카드이용한도금액_B1M', '카드이용한도금액_B2M', '특별한도보유여부_R3M', '연체감액여부_R3M', '한도심사요청건수', '한도요청거절건수', '한도심사요청후경과월', '한도심사거절후경과월', '시장단기연체여부_R6M', '시장단기연체여부_R3M', '시장연체상환여부_R6M', '시장연체상환여부_R3M', 'rv최초시작후경과일']\n",
      "\n",
      "신용정보 null 컬럼 리스트:\n",
      "1\n",
      "['RV신청일자']\n",
      "\n",
      "승인매출정보 컬럼 리스트:\n",
      "406\n",
      "['기준년월', 'ID', '최종이용일자_기본', '최종이용일자_신판', '최종이용일자_CA', '최종이용일자_카드론', '최종이용일자_체크', '최종이용일자_일시불', '최종이용일자_할부', '이용건수_신용_B0M', '이용건수_신판_B0M', '이용건수_일시불_B0M', '이용건수_할부_B0M', '이용건수_할부_유이자_B0M', '이용건수_할부_무이자_B0M', '이용건수_부분무이자_B0M', '이용건수_CA_B0M', '이용건수_체크_B0M', '이용건수_카드론_B0M', '이용금액_일시불_B0M', '이용금액_할부_B0M', '이용금액_할부_유이자_B0M', '이용금액_할부_무이자_B0M', '이용금액_부분무이자_B0M', '이용금액_CA_B0M', '이용금액_체크_B0M', '이용금액_카드론_B0M', '이용후경과월_신용', '이용후경과월_신판', '이용후경과월_일시불', '이용후경과월_할부', '이용후경과월_할부_유이자', '이용후경과월_할부_무이자', '이용후경과월_부분무이자', '이용후경과월_CA', '이용후경과월_체크', '이용후경과월_카드론', '이용건수_신용_R12M', '이용건수_신판_R12M', '이용건수_일시불_R12M', '이용건수_할부_R12M', '이용건수_할부_유이자_R12M', '이용건수_할부_무이자_R12M', '이용건수_부분무이자_R12M', '이용건수_CA_R12M', '이용건수_체크_R12M', '이용건수_카드론_R12M', '이용금액_일시불_R12M', '이용금액_할부_R12M', '이용금액_할부_유이자_R12M', '이용금액_할부_무이자_R12M', '이용금액_부분무이자_R12M', '이용금액_CA_R12M', '이용금액_체크_R12M', '이용금액_카드론_R12M', '최대이용금액_일시불_R12M', '최대이용금액_할부_R12M', '최대이용금액_할부_유이자_R12M', '최대이용금액_할부_무이자_R12M', '최대이용금액_부분무이자_R12M', '최대이용금액_CA_R12M', '최대이용금액_체크_R12M', '최대이용금액_카드론_R12M', '이용개월수_신용_R12M', '이용개월수_신판_R12M', '이용개월수_일시불_R12M', '이용개월수_할부_R12M', '이용개월수_할부_유이자_R12M', '이용개월수_할부_무이자_R12M', '이용개월수_부분무이자_R12M']\n",
      "...(총 406개 컬럼)\n",
      "\n",
      "승인매출정보 null 컬럼 리스트:\n",
      "18\n",
      "['_1순위업종', '_2순위업종', '_3순위업종', '_1순위쇼핑업종', '_2순위쇼핑업종', '_3순위쇼핑업종', '_1순위교통업종', '_2순위교통업종', '_3순위교통업종', '_1순위여유업종', '_2순위여유업종', '_3순위여유업종', '_1순위납부업종', '_2순위납부업종', '_3순위납부업종', '최종카드론_금융상환방식코드', '최종카드론_신청경로코드', '최종카드론_대출일자']\n",
      "\n",
      "청구입금정보 컬럼 리스트:\n",
      "46\n",
      "['기준년월', 'ID', '대표결제일', '대표결제방법코드', '대표청구지고객주소구분코드', '대표청구서수령지구분코드', '청구서수령방법', '청구서발송여부_B0', '청구서발송여부_R3M', '청구서발송여부_R6M', '청구금액_B0', '청구금액_R3M', '청구금액_R6M', '포인트_마일리지_건별_B0M', '포인트_마일리지_건별_R3M', '포인트_포인트_건별_B0M', '포인트_포인트_건별_R3M', '포인트_마일리지_월적립_B0M', '포인트_마일리지_월적립_R3M', '포인트_포인트_월적립_B0M', '포인트_포인트_월적립_R3M', '포인트_적립포인트_R12M', '포인트_적립포인트_R3M', '포인트_이용포인트_R12M', '포인트_이용포인트_R3M', '포인트_잔여포인트_B0M', '마일_적립포인트_R12M', '마일_적립포인트_R3M', '마일_이용포인트_R12M', '마일_이용포인트_R3M', '마일_잔여포인트_B0M', '할인건수_R3M', '할인금액_R3M', '할인건수_B0M', '할인금액_B0M', '할인금액_청구서_R3M', '할인금액_청구서_B0M', '상환개월수_결제일_R6M', '상환개월수_결제일_R3M', '선결제건수_R6M', '선결제건수_R3M', '연체건수_R6M', '연체건수_R3M', '혜택수혜금액_R3M', '포인트_마일리지_환산_B0M', '혜택수혜금액']\n",
      "\n",
      "청구입금정보 null 컬럼 리스트:\n",
      "0\n",
      "[]\n",
      "\n",
      "잔액정보 컬럼 리스트:\n",
      "82\n",
      "['기준년월', 'ID', '잔액_일시불_B0M', '잔액_할부_B0M', '잔액_현금서비스_B0M', '잔액_리볼빙일시불이월_B0M', '잔액_리볼빙CA이월_B0M', '잔액_카드론_B0M', '월중평잔_일시불_B0M', '월중평잔_할부_B0M', '월중평잔_CA_B0M', '카드론잔액_최종경과월', '연체일자_B0M', '연체잔액_B0M', '연체잔액_일시불_B0M', '연체잔액_할부_B0M', '연체잔액_현금서비스_B0M', '연체잔액_카드론_B0M', '연체잔액_대환론_B0M', '잔액_현금서비스_B1M', '잔액_현금서비스_B2M', '잔액_카드론_B1M', '잔액_카드론_B2M', '잔액_카드론_B3M', '잔액_카드론_B4M', '잔액_카드론_B5M', '잔액_할부_B1M', '잔액_할부_B2M', '잔액_일시불_B1M', '잔액_일시불_B2M', '연체일수_B1M', '연체일수_B2M', '연체원금_B1M', '연체원금_B2M', '연체일수_최근', '연체원금_최근', '최종연체회차', '매각잔액_B1M', '최종연체개월수_R15M', 'RV_평균잔액_R12M', 'RV_최대잔액_R12M', 'RV_평균잔액_R6M', 'RV_최대잔액_R6M', 'RV_평균잔액_R3M', 'RV_최대잔액_R3M', 'RV잔액이월횟수_R6M', 'RV잔액이월횟수_R3M', '잔액_할부_유이자_B0M', '잔액_할부_무이자_B0M', '잔액_할부_해외_B0M', '연체잔액_일시불_해외_B0M', '연체잔액_RV일시불_B0M', '연체잔액_RV일시불_해외_B0M', '연체잔액_할부_해외_B0M', '연체잔액_CA_B0M', '연체잔액_CA_해외_B0M', '월중평잔', '월중평잔_일시불', '월중평잔_RV일시불', '월중평잔_할부', '월중평잔_CA', '월중평잔_카드론', '평잔_3M', '평잔_일시불_3M', '평잔_일시불_해외_3M', '평잔_RV일시불_3M', '평잔_RV일시불_해외_3M', '평잔_할부_3M', '평잔_할부_해외_3M', '평잔_CA_3M', '평잔_CA_해외_3M', '평잔_카드론_3M', '평잔_6M', '평잔_일시불_6M', '평잔_일시불_해외_6M', '평잔_RV일시불_6M', '평잔_RV일시불_해외_6M', '평잔_할부_6M', '평잔_할부_해외_6M', '평잔_CA_6M', '평잔_CA_해외_6M', '평잔_카드론_6M']\n",
      "\n",
      "잔액정보 null 컬럼 리스트:\n",
      "1\n",
      "['연체일자_B0M']\n",
      "\n",
      "채널정보 컬럼 리스트:\n",
      "105\n",
      "['기준년월', 'ID', '인입횟수_ARS_R6M', '이용메뉴건수_ARS_R6M', '인입일수_ARS_R6M', '인입월수_ARS_R6M', '인입후경과월_ARS', '인입횟수_ARS_B0M', '이용메뉴건수_ARS_B0M', '인입일수_ARS_B0M', '방문횟수_PC_R6M', '방문일수_PC_R6M', '방문월수_PC_R6M', '방문후경과월_PC_R6M', '방문횟수_앱_R6M', '방문일수_앱_R6M', '방문월수_앱_R6M', '방문후경과월_앱_R6M', '방문횟수_모바일웹_R6M', '방문일수_모바일웹_R6M', '방문월수_모바일웹_R6M', '방문후경과월_모바일웹_R6M', '방문횟수_PC_B0M', '방문일수_PC_B0M', '방문횟수_앱_B0M', '방문일수_앱_B0M', '방문횟수_모바일웹_B0M', '방문일수_모바일웹_B0M', '인입횟수_IB_R6M', '인입횟수_금융_IB_R6M', '인입일수_IB_R6M', '인입월수_IB_R6M', '이용메뉴건수_IB_R6M', '인입후경과월_IB_R6M', '인입횟수_IB_B0M', '인입일수_IB_B0M', '이용메뉴건수_IB_B0M', '인입불만횟수_IB_R6M', '인입불만일수_IB_R6M', '인입불만월수_IB_R6M', '인입불만후경과월_IB_R6M', '인입불만횟수_IB_B0M', '인입불만일수_IB_B0M', '상담건수_B0M', 'IB문의건수_사용승인내역_B0M', 'IB문의건수_한도_B0M', 'IB문의건수_선결제_B0M', 'IB문의건수_결제_B0M', 'IB문의건수_할부_B0M', 'IB문의건수_정보변경_B0M', 'IB문의건수_결제일변경_B0M', 'IB문의건수_명세서_B0M', 'IB문의건수_비밀번호_B0M', 'IB문의건수_SMS_B0M', 'IB문의건수_APP_B0M', 'IB문의건수_부대서비스_B0M', 'IB문의건수_포인트_B0M', 'IB문의건수_카드발급_B0M', 'IB문의건수_BL_B0M', 'IB문의건수_분실도난_B0M', 'IB문의건수_CA_B0M', 'IB문의건수_CL_RV_B0M', 'IB문의건수_CS_B0M', 'IB상담건수_VOC_B0M', 'IB상담건수_VOC민원_B0M', 'IB상담건수_VOC불만_B0M', 'IB상담건수_금감원_B0M', '상담건수_R6M', 'IB문의건수_사용승인내역_R6M', 'IB문의건수_한도_R6M', 'IB문의건수_선결제_R6M', 'IB문의건수_결제_R6M', 'IB문의건수_할부_R6M', 'IB문의건수_정보변경_R6M', 'IB문의건수_결제일변경_R6M', 'IB문의건수_명세서_R6M', 'IB문의건수_비밀번호_R6M', 'IB문의건수_SMS_R6M', 'IB문의건수_APP_R6M', 'IB문의건수_부대서비스_R6M', 'IB문의건수_포인트_R6M', 'IB문의건수_카드발급_R6M', 'IB문의건수_BL_R6M', 'IB문의건수_분실도난_R6M', 'IB문의건수_CA_R6M', 'IB문의건수_CL_RV_R6M', 'IB문의건수_CS_R6M', 'IB상담건수_VOC_R6M', 'IB상담건수_VOC민원_R6M', 'IB상담건수_VOC불만_R6M', 'IB상담건수_금감원_R6M', '불만제기건수_B0M', '불만제기건수_R12M', '불만제기후경과월_R12M', '당사PAY_방문횟수_B0M', '당사PAY_방문횟수_R6M', '당사PAY_방문월수_R6M', '당사멤버쉽_방문횟수_B0M', '당사멤버쉽_방문횟수_R6M', '당사멤버쉽_방문월수_R6M', 'OS구분코드', '홈페이지_금융건수_R6M', '홈페이지_선결제건수_R6M', '홈페이지_금융건수_R3M', '홈페이지_선결제건수_R3M']\n",
      "\n",
      "채널정보 null 컬럼 리스트:\n",
      "1\n",
      "['OS구분코드']\n",
      "\n",
      "마케팅정보 컬럼 리스트:\n",
      "64\n",
      "['기준년월', 'ID', '컨택건수_카드론_TM_B0M', '컨택건수_리볼빙_TM_B0M', '컨택건수_CA_TM_B0M', '컨택건수_이용유도_TM_B0M', '컨택건수_신용발급_TM_B0M', '컨택건수_부대서비스_TM_B0M', '컨택건수_포인트소진_TM_B0M', '컨택건수_보험_TM_B0M', '컨택건수_카드론_LMS_B0M', '컨택건수_CA_LMS_B0M', '컨택건수_리볼빙_LMS_B0M', '컨택건수_이용유도_LMS_B0M', '컨택건수_카드론_EM_B0M', '컨택건수_CA_EM_B0M', '컨택건수_리볼빙_EM_B0M', '컨택건수_이용유도_EM_B0M', '컨택건수_카드론_청구서_B0M', '컨택건수_CA_청구서_B0M', '컨택건수_리볼빙_청구서_B0M', '컨택건수_이용유도_청구서_B0M', '컨택건수_카드론_인터넷_B0M', '컨택건수_CA_인터넷_B0M', '컨택건수_리볼빙_인터넷_B0M', '컨택건수_이용유도_인터넷_B0M', '컨택건수_카드론_당사앱_B0M', '컨택건수_CA_당사앱_B0M', '컨택건수_리볼빙_당사앱_B0M', '컨택건수_이용유도_당사앱_B0M', '컨택건수_카드론_TM_R6M', '컨택건수_CA_TM_R6M', '컨택건수_리볼빙_TM_R6M', '컨택건수_이용유도_TM_R6M', '컨택건수_신용발급_TM_R6M', '컨택건수_부대서비스_TM_R6M', '컨택건수_포인트소진_TM_R6M', '컨택건수_보험_TM_R6M', '컨택건수_카드론_LMS_R6M', '컨택건수_CA_LMS_R6M', '컨택건수_리볼빙_LMS_R6M', '컨택건수_이용유도_LMS_R6M', '컨택건수_카드론_EM_R6M', '컨택건수_CA_EM_R6M', '컨택건수_리볼빙_EM_R6M', '컨택건수_이용유도_EM_R6M', '컨택건수_카드론_청구서_R6M', '컨택건수_CA_청구서_R6M', '컨택건수_리볼빙_청구서_R6M', '컨택건수_이용유도_청구서_R6M', '컨택건수_카드론_인터넷_R6M', '컨택건수_CA_인터넷_R6M', '컨택건수_리볼빙_인터넷_R6M', '컨택건수_이용유도_인터넷_R6M', '컨택건수_카드론_당사앱_R6M', '컨택건수_CA_당사앱_R6M', '컨택건수_리볼빙_당사앱_R6M', '컨택건수_이용유도_당사앱_R6M', '컨택건수_채권_B0M', '컨택건수_FDS_B0M', '컨택건수_채권_R6M', '컨택건수_FDS_R6M', '캠페인접촉건수_R12M', '캠페인접촉일수_R12M']\n",
      "\n",
      "마케팅정보 null 컬럼 리스트:\n",
      "0\n",
      "[]\n",
      "\n",
      "성과정보 컬럼 리스트:\n",
      "49\n",
      "['기준년월', 'ID', '증감율_이용건수_신용_전월', '증감율_이용건수_신판_전월', '증감율_이용건수_일시불_전월', '증감율_이용건수_할부_전월', '증감율_이용건수_CA_전월', '증감율_이용건수_체크_전월', '증감율_이용건수_카드론_전월', '증감율_이용금액_신용_전월', '증감율_이용금액_신판_전월', '증감율_이용금액_일시불_전월', '증감율_이용금액_할부_전월', '증감율_이용금액_CA_전월', '증감율_이용금액_체크_전월', '증감율_이용금액_카드론_전월', '증감율_이용건수_신용_분기', '증감율_이용건수_신판_분기', '증감율_이용건수_일시불_분기', '증감율_이용건수_할부_분기', '증감율_이용건수_CA_분기', '증감율_이용건수_체크_분기', '증감율_이용건수_카드론_분기', '증감율_이용금액_신용_분기', '증감율_이용금액_신판_분기', '증감율_이용금액_일시불_분기', '증감율_이용금액_할부_분기', '증감율_이용금액_CA_분기', '증감율_이용금액_체크_분기', '증감율_이용금액_카드론_분기', '잔액_신판평균한도소진율_r6m', '잔액_신판최대한도소진율_r6m', '잔액_신판평균한도소진율_r3m', '잔액_신판최대한도소진율_r3m', '잔액_신판ca평균한도소진율_r6m', '잔액_신판ca최대한도소진율_r6m', '잔액_신판ca평균한도소진율_r3m', '잔액_신판ca최대한도소진율_r3m', '변동률_일시불평잔', '변동률_RV일시불평잔', '변동률_할부평잔', '변동률_CA평잔', '변동률_RVCA평잔', '변동률_카드론평잔', '변동률_잔액_B1M', '변동률_잔액_일시불_B1M', '변동률_잔액_CA_B1M', '혜택수혜율_R3M', '혜택수혜율_B0M']\n",
      "\n",
      "성과정보 null 컬럼 리스트:\n",
      "2\n",
      "['혜택수혜율_R3M', '혜택수혜율_B0M']\n"
     ]
    }
   ],
   "source": [
    "\n",
    "# 출력\n",
    "print(\"회원정보 컬럼 리스트:\")\n",
    "print(len(menber07_columns))\n",
    "print(menber07_columns)\n",
    "print(\"\\n회원정보 null 컬럼 리스트:\")\n",
    "print(len(menber07_null_columns))\n",
    "print(menber07_null_columns)\n",
    "\n",
    "print(\"\\n신용정보 컬럼 리스트:\")\n",
    "print(len(credit07_columns))\n",
    "print(credit07_columns)\n",
    "print(\"\\n신용정보 null 컬럼 리스트:\")\n",
    "print(len(credit07_null_columns))\n",
    "print(credit07_null_columns)\n",
    "\n",
    "print(\"\\n승인매출정보 컬럼 리스트:\")\n",
    "print(len(sales07_columns))\n",
    "print(sales07_columns[:70])  # 컬럼이 많으므로 일부만 출력\n",
    "print(\"...(총 %d개 컬럼)\" % len(sales07_columns))\n",
    "print(\"\\n승인매출정보 null 컬럼 리스트:\")\n",
    "print(len(sales07_null_columns))\n",
    "print(sales07_null_columns)\n",
    "\n",
    "print(\"\\n청구입금정보 컬럼 리스트:\")\n",
    "print(len(claim07_columns))\n",
    "print(claim07_columns)\n",
    "print(\"\\n청구입금정보 null 컬럼 리스트:\")\n",
    "print(len(claim07_null_columns))\n",
    "print(claim07_null_columns)\n",
    "\n",
    "print(\"\\n잔액정보 컬럼 리스트:\")\n",
    "print(len(balance07_columns))\n",
    "print(balance07_columns)\n",
    "print(\"\\n잔액정보 null 컬럼 리스트:\")\n",
    "print(len(balance07_null_columns))\n",
    "print(balance07_null_columns)\n",
    "\n",
    "print(\"\\n채널정보 컬럼 리스트:\")\n",
    "print(len(channel07_columns))\n",
    "print(channel07_columns)\n",
    "print(\"\\n채널정보 null 컬럼 리스트:\")\n",
    "print(len(channel07_null_columns))\n",
    "print(channel07_null_columns)\n",
    "\n",
    "print(\"\\n마케팅정보 컬럼 리스트:\")\n",
    "print(len(marketing07_columns))\n",
    "print(marketing07_columns)\n",
    "print(\"\\n마케팅정보 null 컬럼 리스트:\")\n",
    "print(len(marketing07_null_columns))\n",
    "print(marketing07_null_columns)\n",
    "\n",
    "print(\"\\n성과정보 컬럼 리스트:\")\n",
    "print(len(performance07_columns))\n",
    "print(performance07_columns)\n",
    "print(\"\\n성과정보 null 컬럼 리스트:\")\n",
    "print(len(performance07_null_columns))\n",
    "print(performance07_null_columns)\n",
    "\n"
   ]
  },
  {
   "cell_type": "code",
   "execution_count": 23,
   "metadata": {},
   "outputs": [
    {
     "name": "stdout",
     "output_type": "stream",
     "text": [
      "Segment의 unique 값:\n",
      "['D' 'E' 'C' 'A' 'B']\n"
     ]
    }
   ],
   "source": [
    "# Segment의 unique 값 출력\n",
    "print(\"Segment의 unique 값:\")\n",
    "print(menber07['Segment'].unique())"
   ]
  },
  {
   "cell_type": "markdown",
   "metadata": {},
   "source": [
    "# EDA"
   ]
  },
  {
   "cell_type": "code",
   "execution_count": 2,
   "metadata": {},
   "outputs": [
    {
     "data": {
      "text/plain": [
       "'c:\\\\Users\\\\erich\\\\Desktop\\\\HYU\\\\신용카드 고객 세그먼트 분류 공모전\\\\eda'"
      ]
     },
     "execution_count": 2,
     "metadata": {},
     "output_type": "execute_result"
    }
   ],
   "source": [
    "os.getcwd()"
   ]
  },
  {
   "cell_type": "code",
   "execution_count": 3,
   "metadata": {},
   "outputs": [
    {
     "data": {
      "text/plain": [
       "Index(['기준년월', 'ID', '남녀구분코드', '연령', 'Segment', '회원여부_이용가능', '회원여부_이용가능_CA',\n",
       "       '회원여부_이용가능_카드론', '소지여부_신용', '소지카드수_유효_신용', '소지카드수_이용가능_신용', '입회일자_신용',\n",
       "       '입회경과개월수_신용', '회원여부_연체', '이용거절여부_카드론', '동의여부_한도증액안내', '수신거부여부_TM',\n",
       "       '수신거부여부_DM', '수신거부여부_메일', '수신거부여부_SMS', '가입통신회사코드', '탈회횟수_누적',\n",
       "       '최종탈회후경과월', '탈회횟수_발급6개월이내', '탈회횟수_발급1년이내', '거주시도명', '직장시도명', '마케팅동의여부',\n",
       "       '유효카드수_신용체크', '유효카드수_신용', '유효카드수_신용_가족', '유효카드수_체크', '유효카드수_체크_가족',\n",
       "       '이용가능카드수_신용체크', '이용가능카드수_신용', '이용가능카드수_신용_가족', '이용가능카드수_체크',\n",
       "       '이용가능카드수_체크_가족', '이용카드수_신용체크', '이용카드수_신용', '이용카드수_신용_가족', '이용카드수_체크',\n",
       "       '이용카드수_체크_가족', '이용금액_R3M_신용체크', '이용금액_R3M_신용', '이용금액_R3M_신용_가족',\n",
       "       '이용금액_R3M_체크', '이용금액_R3M_체크_가족', '_1순위카드이용금액', '_1순위카드이용건수',\n",
       "       '_1순위신용체크구분', '_2순위카드이용금액', '_2순위카드이용건수', '_2순위신용체크구분',\n",
       "       '최종유효년월_신용_이용가능', '최종유효년월_신용_이용', '최종카드발급일자', '보유여부_해외겸용_본인',\n",
       "       '이용가능여부_해외겸용_본인', '이용여부_3M_해외겸용_본인', '보유여부_해외겸용_신용_본인',\n",
       "       '이용가능여부_해외겸용_신용_본인', '이용여부_3M_해외겸용_신용_본인', '연회비발생카드수_B0M',\n",
       "       '연회비할인카드수_B0M', '기본연회비_B0M', '제휴연회비_B0M', '할인금액_기본연회비_B0M',\n",
       "       '할인금액_제휴연회비_B0M', '청구금액_기본연회비_B0M', '청구금액_제휴연회비_B0M', '상품관련면제카드수_B0M',\n",
       "       '임직원면제카드수_B0M', '우수회원면제카드수_B0M', '기타면제카드수_B0M', '카드신청건수', 'Life_Stage',\n",
       "       '최종카드발급경과월'],\n",
       "      dtype='object')"
      ]
     },
     "execution_count": 3,
     "metadata": {},
     "output_type": "execute_result"
    }
   ],
   "source": [
    "customer = pd.read_parquet(\"../data/train/1.회원정보/201807_train_회원정보.parquet\")\n",
    "customer.columns"
   ]
  },
  {
   "cell_type": "markdown",
   "metadata": {},
   "source": [
    "### Segment 인원 수 확인"
   ]
  },
  {
   "cell_type": "code",
   "execution_count": 4,
   "metadata": {},
   "outputs": [
    {
     "data": {
      "text/plain": [
       "Segment\n",
       "E    320342\n",
       "D     58207\n",
       "C     21265\n",
       "A       162\n",
       "B        24\n",
       "Name: count, dtype: int64"
      ]
     },
     "execution_count": 4,
     "metadata": {},
     "output_type": "execute_result"
    }
   ],
   "source": [
    "customer[\"Segment\"].value_counts()"
   ]
  },
  {
   "cell_type": "markdown",
   "metadata": {},
   "source": [
    "뭔가 E가 제일 일반인들을 모아놓은 것 같음.\n",
    "\n",
    "또한 클래스 별 비율 차이가 심하기 때문에, 오버샘플링 또는 언더샘플링을 통해 비율을 어느정도는 맞춰줄 필요가 있어보임"
   ]
  },
  {
   "cell_type": "markdown",
   "metadata": {},
   "source": [
    "### 그룹 별 EDA"
   ]
  },
  {
   "cell_type": "markdown",
   "metadata": {},
   "source": [
    "### 이용가능 여부"
   ]
  },
  {
   "cell_type": "code",
   "execution_count": 6,
   "metadata": {},
   "outputs": [
    {
     "data": {
      "text/plain": [
       "Segment\n",
       "A       162\n",
       "B        24\n",
       "C     21114\n",
       "D     57642\n",
       "E    303878\n",
       "Name: 회원여부_이용가능, dtype: int64"
      ]
     },
     "execution_count": 6,
     "metadata": {},
     "output_type": "execute_result"
    }
   ],
   "source": [
    "customer.groupby(\"Segment\")['회원여부_이용가능'].sum()"
   ]
  },
  {
   "cell_type": "markdown",
   "metadata": {},
   "source": [
    "A, B는 전부 이용가능 했음.\n",
    "\n",
    "뭔진 모르겠지만..."
   ]
  },
  {
   "cell_type": "code",
   "execution_count": 6,
   "metadata": {},
   "outputs": [
    {
     "data": {
      "text/plain": [
       "Segment\n",
       "A       160\n",
       "B        23\n",
       "C     20147\n",
       "D     54775\n",
       "E    279951\n",
       "Name: 회원여부_이용가능_CA, dtype: int64"
      ]
     },
     "execution_count": 6,
     "metadata": {},
     "output_type": "execute_result"
    }
   ],
   "source": [
    "customer.groupby(\"Segment\")['회원여부_이용가능_CA'].sum()"
   ]
  },
  {
   "cell_type": "markdown",
   "metadata": {},
   "source": [
    "CA의 경우 차이가 더 큼.\n",
    "\n",
    "A, B에서는 빠지는 사람이 그렇게 많지 않은 것으로 보아\n",
    "\n",
    "뭔가 VIP라고 추정 됨."
   ]
  },
  {
   "cell_type": "code",
   "execution_count": 9,
   "metadata": {},
   "outputs": [
    {
     "data": {
      "text/plain": [
       "Segment\n",
       "A        99\n",
       "B         9\n",
       "C     12785\n",
       "D     35173\n",
       "E    196942\n",
       "Name: 회원여부_이용가능_카드론, dtype: int64"
      ]
     },
     "execution_count": 9,
     "metadata": {},
     "output_type": "execute_result"
    }
   ],
   "source": [
    "customer.groupby(\"Segment\")[\"회원여부_이용가능_카드론\"].sum()"
   ]
  },
  {
   "cell_type": "code",
   "execution_count": 12,
   "metadata": {},
   "outputs": [
    {
     "data": {
      "text/html": [
       "<div>\n",
       "<style scoped>\n",
       "    .dataframe tbody tr th:only-of-type {\n",
       "        vertical-align: middle;\n",
       "    }\n",
       "\n",
       "    .dataframe tbody tr th {\n",
       "        vertical-align: top;\n",
       "    }\n",
       "\n",
       "    .dataframe thead th {\n",
       "        text-align: right;\n",
       "    }\n",
       "</style>\n",
       "<table border=\"1\" class=\"dataframe\">\n",
       "  <thead>\n",
       "    <tr style=\"text-align: right;\">\n",
       "      <th></th>\n",
       "      <th>회원여부_이용가능-sum</th>\n",
       "      <th>회원여부_이용가능-mean</th>\n",
       "      <th>회원여부_이용가능_CA-sum</th>\n",
       "      <th>회원여부_이용가능_CA-mean</th>\n",
       "      <th>회원여부_이용가능_카드론-sum</th>\n",
       "      <th>회원여부_이용가능_카드론-mean</th>\n",
       "      <th>회원 수</th>\n",
       "    </tr>\n",
       "    <tr>\n",
       "      <th>Segment</th>\n",
       "      <th></th>\n",
       "      <th></th>\n",
       "      <th></th>\n",
       "      <th></th>\n",
       "      <th></th>\n",
       "      <th></th>\n",
       "      <th></th>\n",
       "    </tr>\n",
       "  </thead>\n",
       "  <tbody>\n",
       "    <tr>\n",
       "      <th>A</th>\n",
       "      <td>162</td>\n",
       "      <td>1.000000</td>\n",
       "      <td>160</td>\n",
       "      <td>0.987654</td>\n",
       "      <td>99</td>\n",
       "      <td>0.611111</td>\n",
       "      <td>162</td>\n",
       "    </tr>\n",
       "    <tr>\n",
       "      <th>B</th>\n",
       "      <td>24</td>\n",
       "      <td>1.000000</td>\n",
       "      <td>23</td>\n",
       "      <td>0.958333</td>\n",
       "      <td>9</td>\n",
       "      <td>0.375000</td>\n",
       "      <td>24</td>\n",
       "    </tr>\n",
       "    <tr>\n",
       "      <th>C</th>\n",
       "      <td>21114</td>\n",
       "      <td>0.992899</td>\n",
       "      <td>20147</td>\n",
       "      <td>0.947425</td>\n",
       "      <td>12785</td>\n",
       "      <td>0.601223</td>\n",
       "      <td>21265</td>\n",
       "    </tr>\n",
       "    <tr>\n",
       "      <th>D</th>\n",
       "      <td>57642</td>\n",
       "      <td>0.990293</td>\n",
       "      <td>54775</td>\n",
       "      <td>0.941038</td>\n",
       "      <td>35173</td>\n",
       "      <td>0.604274</td>\n",
       "      <td>58207</td>\n",
       "    </tr>\n",
       "    <tr>\n",
       "      <th>E</th>\n",
       "      <td>303878</td>\n",
       "      <td>0.948605</td>\n",
       "      <td>279951</td>\n",
       "      <td>0.873913</td>\n",
       "      <td>196942</td>\n",
       "      <td>0.614787</td>\n",
       "      <td>320342</td>\n",
       "    </tr>\n",
       "  </tbody>\n",
       "</table>\n",
       "</div>"
      ],
      "text/plain": [
       "         회원여부_이용가능-sum  회원여부_이용가능-mean  회원여부_이용가능_CA-sum  회원여부_이용가능_CA-mean  \\\n",
       "Segment                                                                       \n",
       "A                  162        1.000000               160           0.987654   \n",
       "B                   24        1.000000                23           0.958333   \n",
       "C                21114        0.992899             20147           0.947425   \n",
       "D                57642        0.990293             54775           0.941038   \n",
       "E               303878        0.948605            279951           0.873913   \n",
       "\n",
       "         회원여부_이용가능_카드론-sum  회원여부_이용가능_카드론-mean    회원 수  \n",
       "Segment                                                 \n",
       "A                       99            0.611111     162  \n",
       "B                        9            0.375000      24  \n",
       "C                    12785            0.601223   21265  \n",
       "D                    35173            0.604274   58207  \n",
       "E                   196942            0.614787  320342  "
      ]
     },
     "execution_count": 12,
     "metadata": {},
     "output_type": "execute_result"
    }
   ],
   "source": [
    "회원여부_이용가능 = customer.groupby(\"Segment\").agg({\n",
    "    \"회원여부_이용가능\" : ['sum', 'mean'],\n",
    "    \"회원여부_이용가능_CA\" : ['sum', 'mean'],\n",
    "    \"회원여부_이용가능_카드론\" : ['sum', 'mean']\n",
    "})\n",
    "\n",
    "회원여부_이용가능.columns = [\"-\".join(col) for col in 회원여부_이용가능.columns]\n",
    "\n",
    "segment_count = customer.groupby(\"Segment\").size().to_frame(\"회원 수\")\n",
    "\n",
    "회원여부_이용가능.join(segment_count)"
   ]
  },
  {
   "cell_type": "markdown",
   "metadata": {},
   "source": [
    "### 소지 여부"
   ]
  },
  {
   "cell_type": "markdown",
   "metadata": {},
   "source": [
    "### 수신 거부 여부, 마케팅 동의 여부"
   ]
  },
  {
   "cell_type": "code",
   "execution_count": 16,
   "metadata": {},
   "outputs": [
    {
     "data": {
      "text/html": [
       "<div>\n",
       "<style scoped>\n",
       "    .dataframe tbody tr th:only-of-type {\n",
       "        vertical-align: middle;\n",
       "    }\n",
       "\n",
       "    .dataframe tbody tr th {\n",
       "        vertical-align: top;\n",
       "    }\n",
       "\n",
       "    .dataframe thead tr th {\n",
       "        text-align: left;\n",
       "    }\n",
       "\n",
       "    .dataframe thead tr:last-of-type th {\n",
       "        text-align: right;\n",
       "    }\n",
       "</style>\n",
       "<table border=\"1\" class=\"dataframe\">\n",
       "  <thead>\n",
       "    <tr>\n",
       "      <th></th>\n",
       "      <th colspan=\"2\" halign=\"left\">수신거부여부_TM</th>\n",
       "      <th colspan=\"2\" halign=\"left\">수신거부여부_DM</th>\n",
       "      <th colspan=\"2\" halign=\"left\">수신거부여부_메일</th>\n",
       "      <th colspan=\"2\" halign=\"left\">수신거부여부_SMS</th>\n",
       "      <th colspan=\"2\" halign=\"left\">마케팅동의여부</th>\n",
       "    </tr>\n",
       "    <tr>\n",
       "      <th></th>\n",
       "      <th>sum</th>\n",
       "      <th>mean</th>\n",
       "      <th>sum</th>\n",
       "      <th>mean</th>\n",
       "      <th>sum</th>\n",
       "      <th>mean</th>\n",
       "      <th>sum</th>\n",
       "      <th>mean</th>\n",
       "      <th>sum</th>\n",
       "      <th>mean</th>\n",
       "    </tr>\n",
       "    <tr>\n",
       "      <th>Segment</th>\n",
       "      <th></th>\n",
       "      <th></th>\n",
       "      <th></th>\n",
       "      <th></th>\n",
       "      <th></th>\n",
       "      <th></th>\n",
       "      <th></th>\n",
       "      <th></th>\n",
       "      <th></th>\n",
       "      <th></th>\n",
       "    </tr>\n",
       "  </thead>\n",
       "  <tbody>\n",
       "    <tr>\n",
       "      <th>A</th>\n",
       "      <td>85</td>\n",
       "      <td>0.524691</td>\n",
       "      <td>70</td>\n",
       "      <td>0.432099</td>\n",
       "      <td>75</td>\n",
       "      <td>0.462963</td>\n",
       "      <td>90</td>\n",
       "      <td>0.555556</td>\n",
       "      <td>123</td>\n",
       "      <td>0.759259</td>\n",
       "    </tr>\n",
       "    <tr>\n",
       "      <th>B</th>\n",
       "      <td>10</td>\n",
       "      <td>0.416667</td>\n",
       "      <td>7</td>\n",
       "      <td>0.291667</td>\n",
       "      <td>8</td>\n",
       "      <td>0.333333</td>\n",
       "      <td>10</td>\n",
       "      <td>0.416667</td>\n",
       "      <td>21</td>\n",
       "      <td>0.875000</td>\n",
       "    </tr>\n",
       "    <tr>\n",
       "      <th>C</th>\n",
       "      <td>10279</td>\n",
       "      <td>0.483376</td>\n",
       "      <td>9087</td>\n",
       "      <td>0.427322</td>\n",
       "      <td>9234</td>\n",
       "      <td>0.434235</td>\n",
       "      <td>10390</td>\n",
       "      <td>0.488596</td>\n",
       "      <td>16129</td>\n",
       "      <td>0.758476</td>\n",
       "    </tr>\n",
       "    <tr>\n",
       "      <th>D</th>\n",
       "      <td>26333</td>\n",
       "      <td>0.452403</td>\n",
       "      <td>23119</td>\n",
       "      <td>0.397186</td>\n",
       "      <td>23409</td>\n",
       "      <td>0.402168</td>\n",
       "      <td>26329</td>\n",
       "      <td>0.452334</td>\n",
       "      <td>45447</td>\n",
       "      <td>0.780782</td>\n",
       "    </tr>\n",
       "    <tr>\n",
       "      <th>E</th>\n",
       "      <td>105341</td>\n",
       "      <td>0.328839</td>\n",
       "      <td>90533</td>\n",
       "      <td>0.282614</td>\n",
       "      <td>91693</td>\n",
       "      <td>0.286235</td>\n",
       "      <td>110896</td>\n",
       "      <td>0.346180</td>\n",
       "      <td>262757</td>\n",
       "      <td>0.820239</td>\n",
       "    </tr>\n",
       "  </tbody>\n",
       "</table>\n",
       "</div>"
      ],
      "text/plain": [
       "        수신거부여부_TM           수신거부여부_DM           수신거부여부_메일            \\\n",
       "              sum      mean       sum      mean       sum      mean   \n",
       "Segment                                                               \n",
       "A              85  0.524691        70  0.432099        75  0.462963   \n",
       "B              10  0.416667         7  0.291667         8  0.333333   \n",
       "C           10279  0.483376      9087  0.427322      9234  0.434235   \n",
       "D           26333  0.452403     23119  0.397186     23409  0.402168   \n",
       "E          105341  0.328839     90533  0.282614     91693  0.286235   \n",
       "\n",
       "        수신거부여부_SMS           마케팅동의여부            \n",
       "               sum      mean     sum      mean  \n",
       "Segment                                         \n",
       "A               90  0.555556     123  0.759259  \n",
       "B               10  0.416667      21  0.875000  \n",
       "C            10390  0.488596   16129  0.758476  \n",
       "D            26329  0.452334   45447  0.780782  \n",
       "E           110896  0.346180  262757  0.820239  "
      ]
     },
     "execution_count": 16,
     "metadata": {},
     "output_type": "execute_result"
    }
   ],
   "source": [
    "customer.groupby(\"Segment\").agg({\n",
    "    \"수신거부여부_TM\" : [\"sum\", \"mean\"],\n",
    "    \"수신거부여부_DM\" : [\"sum\", \"mean\"],\n",
    "    \"수신거부여부_메일\" : [\"sum\", \"mean\"],\n",
    "    \"수신거부여부_SMS\" : [\"sum\", \"mean\"],\n",
    "    \"마케팅동의여부\" : [\"sum\", \"mean\"]\n",
    "})"
   ]
  },
  {
   "cell_type": "markdown",
   "metadata": {},
   "source": [
    "이건 뭐 큰 의미가 없는 듯?"
   ]
  },
  {
   "cell_type": "code",
   "execution_count": 17,
   "metadata": {},
   "outputs": [
    {
     "data": {
      "text/plain": [
       "Index(['기준년월', 'ID', '남녀구분코드', '연령', 'Segment', '회원여부_이용가능', '회원여부_이용가능_CA',\n",
       "       '회원여부_이용가능_카드론', '소지여부_신용', '소지카드수_유효_신용', '소지카드수_이용가능_신용', '입회일자_신용',\n",
       "       '입회경과개월수_신용', '회원여부_연체', '이용거절여부_카드론', '동의여부_한도증액안내', '수신거부여부_TM',\n",
       "       '수신거부여부_DM', '수신거부여부_메일', '수신거부여부_SMS', '가입통신회사코드', '탈회횟수_누적',\n",
       "       '최종탈회후경과월', '탈회횟수_발급6개월이내', '탈회횟수_발급1년이내', '거주시도명', '직장시도명', '마케팅동의여부',\n",
       "       '유효카드수_신용체크', '유효카드수_신용', '유효카드수_신용_가족', '유효카드수_체크', '유효카드수_체크_가족',\n",
       "       '이용가능카드수_신용체크', '이용가능카드수_신용', '이용가능카드수_신용_가족', '이용가능카드수_체크',\n",
       "       '이용가능카드수_체크_가족', '이용카드수_신용체크', '이용카드수_신용', '이용카드수_신용_가족', '이용카드수_체크',\n",
       "       '이용카드수_체크_가족', '이용금액_R3M_신용체크', '이용금액_R3M_신용', '이용금액_R3M_신용_가족',\n",
       "       '이용금액_R3M_체크', '이용금액_R3M_체크_가족', '_1순위카드이용금액', '_1순위카드이용건수',\n",
       "       '_1순위신용체크구분', '_2순위카드이용금액', '_2순위카드이용건수', '_2순위신용체크구분',\n",
       "       '최종유효년월_신용_이용가능', '최종유효년월_신용_이용', '최종카드발급일자', '보유여부_해외겸용_본인',\n",
       "       '이용가능여부_해외겸용_본인', '이용여부_3M_해외겸용_본인', '보유여부_해외겸용_신용_본인',\n",
       "       '이용가능여부_해외겸용_신용_본인', '이용여부_3M_해외겸용_신용_본인', '연회비발생카드수_B0M',\n",
       "       '연회비할인카드수_B0M', '기본연회비_B0M', '제휴연회비_B0M', '할인금액_기본연회비_B0M',\n",
       "       '할인금액_제휴연회비_B0M', '청구금액_기본연회비_B0M', '청구금액_제휴연회비_B0M', '상품관련면제카드수_B0M',\n",
       "       '임직원면제카드수_B0M', '우수회원면제카드수_B0M', '기타면제카드수_B0M', '카드신청건수', 'Life_Stage',\n",
       "       '최종카드발급경과월'],\n",
       "      dtype='object')"
      ]
     },
     "execution_count": 17,
     "metadata": {},
     "output_type": "execute_result"
    }
   ],
   "source": [
    "customer.columns"
   ]
  },
  {
   "cell_type": "markdown",
   "metadata": {},
   "source": [
    "### 가입통신회사코드\n",
    "\n",
    "이건 의미가 없을 것으로보임.\n",
    "\n",
    "왜냐면 내가 생각하기에 segment를 나누어둔 기준이 있을 것이고, 그 기준은 금융과 관련된 기준일 것 같음.\n",
    "\n",
    "근데 통신사는 의미가 크게 없을 것 같음."
   ]
  },
  {
   "cell_type": "code",
   "execution_count": 18,
   "metadata": {},
   "outputs": [
    {
     "data": {
      "text/plain": [
       "Segment  가입통신회사코드\n",
       "A        S사              85\n",
       "         K사              53\n",
       "         L사              12\n",
       "B        S사              16\n",
       "         K사               5\n",
       "         L사               2\n",
       "C        S사           11150\n",
       "         K사            4678\n",
       "         L사            2897\n",
       "D        S사           27310\n",
       "         K사           12539\n",
       "         L사            9264\n",
       "E        S사          126602\n",
       "         K사           75286\n",
       "         L사           62737\n",
       "Name: count, dtype: int64"
      ]
     },
     "execution_count": 18,
     "metadata": {},
     "output_type": "execute_result"
    }
   ],
   "source": [
    "customer.groupby(\"Segment\")[\"가입통신회사코드\"].value_counts()"
   ]
  },
  {
   "cell_type": "code",
   "execution_count": null,
   "metadata": {},
   "outputs": [],
   "source": []
  }
 ],
 "metadata": {
  "kernelspec": {
   "display_name": "CustomerSegment",
   "language": "python",
   "name": "python3"
  },
  "language_info": {
   "codemirror_mode": {
    "name": "ipython",
    "version": 3
   },
   "file_extension": ".py",
   "mimetype": "text/x-python",
   "name": "python",
   "nbconvert_exporter": "python",
   "pygments_lexer": "ipython3",
   "version": "3.10.16"
  }
 },
 "nbformat": 4,
 "nbformat_minor": 2
}
